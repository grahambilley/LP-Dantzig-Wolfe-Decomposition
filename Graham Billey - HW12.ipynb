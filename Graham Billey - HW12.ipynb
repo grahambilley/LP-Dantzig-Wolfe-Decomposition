{
 "cells": [
  {
   "cell_type": "markdown",
   "metadata": {},
   "source": [
    "ISYE 6999 - Deterministic Optimization\n",
    "\n",
    "Homework 12 - Graham Billey\n",
    "\n",
    "### Dantzig-Wolfe Decomposition\n",
    "\n",
    "Consider the following lienar programming problem:"
   ]
  },
  {
   "cell_type": "markdown",
   "metadata": {},
   "source": [
    "![](1.png)"
   ]
  },
  {
   "cell_type": "markdown",
   "metadata": {},
   "source": [
    "**1) First, argue that the polyhedron $P$ defined above is bounded.** Hint: Can any variable $x_{ij}$ take infinte values without violating some constraints in $P$?\n",
    "\n",
    "The set of constraints defined by $x_{ij} \\geq 0 \\,\\, \\forall i=1,2 \\,\\, j=1,2,3$ means that each variable is bounded from below by 0.\n",
    "\n",
    "To see that each constraint is bounded from above, we can look at the remaining easy constraints.\n",
    "\n",
    "$x_{11} + x_{12} + x_{13} = 20$ means that $x_{11}$, $x_{12}$, and $x_{13}$ can be at most 20. This occurs when exactly one of the three variables is nonzero.\n",
    "\n",
    "$x_{21} + x_{22} + x_{23} = 10$ means that $x_{21}$, $x_{22}$, and $x_{23}$ can be at most 10. This occurs when exactly one of the three variables is nonzero.\n",
    "\n",
    "**Since each variable is bounded from above and below, the polyhedron $P$ is bounded.**"
   ]
  },
  {
   "cell_type": "markdown",
   "metadata": {},
   "source": [
    "----------------\n",
    "**2) Since $P$ is bounded, we can use the extreme point representation for $P$.** The Dantzig-Wolfe master problem can be written as:\n",
    "\n",
    "![](2.png)\n",
    "\n",
    "**Specify $c$, $D$, and $b$ for this problem**\n",
    "\n",
    "$c = (0, 2, 0, 0, 1, 1)^T$\n",
    "\n",
    "$D = (1, 0, 0, 0, 0, 1)$\n",
    "\n",
    "$b = 8$\n"
   ]
  },
  {
   "cell_type": "markdown",
   "metadata": {},
   "source": [
    "-------------\n",
    "**3) You are given the following two extreme points of the ployhedron $P$:**\n",
    "\n",
    "$$ x^1 = (10, 0, 10, 0, 10, 0)^T $$\n",
    "\n",
    "$$ x^2 = (0, 10, 10, 10, 0, 0)^T $$\n",
    "\n",
    "**Construct the RMP using these two extreme points.** Use variables $\\lambda_1$ and $\\lambda_2$ for the RMP.\n",
    "\n"
   ]
  },
  {
   "cell_type": "markdown",
   "metadata": {},
   "source": [
    "The RMP becomes:\n",
    "\n",
    "$$ \\max \\lambda_1 c^T x^1 + \\lambda_2 c^T x^2 $$\n",
    "\n",
    "$$ s.t. \\lambda_1 D x^1 + \\lambda_2 D x^2 \\leq 8 $$\n",
    "\n",
    "$$ \\lambda_1 + \\lambda_2 = 1 $$\n",
    "\n",
    "$$ \\lambda_1, \\lambda_2 \\geq 0 $$\n",
    "\n",
    "which simplifies to...\n",
    "\n",
    "$$ \\max 10 \\lambda_1 + 20 \\lambda_2 $$\n",
    "\n",
    "$$ s.t. 10 \\lambda_1 \\leq 8 $$\n",
    "\n",
    "$$ \\lambda_1 + \\lambda_2 = 1 $$\n",
    "\n",
    "$$ \\lambda_1, \\lambda_2 \\geq 0 $$"
   ]
  },
  {
   "cell_type": "markdown",
   "metadata": {},
   "source": [
    "**4) Find the optimal solution to the RMP, which can be solved by hand.**\n",
    "\n",
    "The optimal solution to the above RMP is $(\\lambda_1, \\lambda_2) = (0, 1)$.\n",
    "\n",
    "The optimal objective value is $20$."
   ]
  },
  {
   "cell_type": "markdown",
   "metadata": {},
   "source": [
    "**5) Find the optimal dual variables. In order to do this, form the dual problem of the RMP and compute the optimal dual variables using primal and dual complimentary slackness.**\n",
    "\n",
    "The RMP has the basis matrix $B = \\begin{bmatrix} 10 & 0 \\\\ 1 & 1 \\end{bmatrix}$, and cost vector $c_B = [10, 20]$.\n",
    "\n",
    "The dual variables $[\\hat y^T, \\hat r] = c_B^T B^{-1}$. In the cell below we will calculate the dual variables.\n",
    "\n",
    "The dual variables $[\\hat y^T, \\hat r] = [-1, 20]$."
   ]
  },
  {
   "cell_type": "code",
   "execution_count": 1,
   "metadata": {},
   "outputs": [],
   "source": [
    "import numpy as np"
   ]
  },
  {
   "cell_type": "code",
   "execution_count": 4,
   "metadata": {},
   "outputs": [
    {
     "name": "stdout",
     "output_type": "stream",
     "text": [
      "Dual Variables: [-1. 20.]\n"
     ]
    }
   ],
   "source": [
    "c_B = np.array([10, 20])\n",
    "B = np.array([[10, 0],\n",
    "              [1,  1]])\n",
    "\n",
    "dual_vars = c_B.T @ np.linalg.inv(B)\n",
    "print(f'Dual Variables: {dual_vars}')"
   ]
  },
  {
   "cell_type": "markdown",
   "metadata": {},
   "source": [
    "**6) Using the dual variables computed in the previous part, formulate the subproblem that maximizes the reduced cost of the RMP.**\n",
    "\n",
    "The pricing problem can be formulated as:\n",
    "\n",
    "![](3.png)"
   ]
  },
  {
   "cell_type": "markdown",
   "metadata": {},
   "source": [
    "In this case, $c^T - \\hat y^T D = (1, 2, 0, 0, 1, 2)$, \n",
    "\n",
    "$\\hat r = 20$, \n",
    "\n",
    "$F = \\begin{bmatrix} 1 & 1 & 1 & 0 & 0 & 0 \\\\ \n",
    "                     0 & 0 & 0 & 1 & 1 & 1 \\\\\n",
    "                     1 & 0 & 0 & 1 & 0 & 0 \\\\\n",
    "                     0 & 1 & 0 & 0 & 1 & 0 \\\\\n",
    "                     0 & 0 & 1 & 0 & 0 & 1 \\\\\n",
    "                     \\end{bmatrix}$, and\n",
    "\n",
    "$\\vec b = (20, 10, 10, 10, 10)^T$\n"
   ]
  },
  {
   "cell_type": "markdown",
   "metadata": {},
   "source": [
    "**7) Solve the above subproblem using Python. Find the optimal solution and the optimal objective value. Be careful that the objective function may include a constant term. Should we terminate the Dantzig-Wolfe decomposition algorithm in this iteration?**"
   ]
  },
  {
   "cell_type": "code",
   "execution_count": 5,
   "metadata": {},
   "outputs": [],
   "source": [
    "import cvxpy as cp"
   ]
  },
  {
   "cell_type": "code",
   "execution_count": 9,
   "metadata": {},
   "outputs": [
    {
     "name": "stdout",
     "output_type": "stream",
     "text": [
      "Objective function value at optimum: 30.0\n",
      "Optimal solution: [10. 10.  0. -0. -0. 10.]^T\n",
      "\n",
      "Adding this solution to the RMP will increase the objective value, so we continue iterating.\n"
     ]
    }
   ],
   "source": [
    "x = cp.Variable(6)\n",
    "\n",
    "c = np.array([1,2,0,0,1,2])\n",
    "\n",
    "F = np.array([[1,1,1,0,0,0],\n",
    "              [0,0,0,1,1,1],\n",
    "              [1,0,0,1,0,0],\n",
    "              [0,1,0,0,1,0],\n",
    "              [0,0,1,0,0,1]])\n",
    "\n",
    "b = np.array([20,10,10,10,10])\n",
    "\n",
    "obj = cp.Maximize(c@x - 20)\n",
    "prob = cp.Problem(obj, [F @ x == b,\n",
    "                        x >= 0])\n",
    "prob.solve()\n",
    "\n",
    "print(f'Objective function value at optimum: {prob.value}')\n",
    "print(f'Optimal solution: {np.round(x.value,1)}^T')\n",
    "\n",
    "if prob.value > 0:\n",
    "    print('\\nAdding this solution to the RMP will increase the objective value, so we continue iterating.')\n",
    "else:\n",
    "    print('\\nAdding this solution to the RMP will not increase the objective value, \\\n",
    "    so we terminate the algorithm at this iteration!')"
   ]
  },
  {
   "cell_type": "markdown",
   "metadata": {},
   "source": [
    "**8) Use the optimal solution from the above subproblem to form a new restricted master problem.**"
   ]
  },
  {
   "cell_type": "markdown",
   "metadata": {},
   "source": [
    "$$ x^1 = (10, 0, 10, 0, 10, 0)^T $$\n",
    "\n",
    "$$ x^2 = (0, 10, 10, 10, 0, 0)^T $$\n",
    "\n",
    "$$ x^3 = (10, 10, 0, 0, 0, 10)^T $$\n",
    "\n",
    "The RMP becomes:\n",
    "\n",
    "$$ \\max \\lambda_1 c^T x^1 + \\lambda_2 c^T x^2 + \\lambda_3 c^T x^3$$\n",
    "\n",
    "$$ s.t. \\lambda_1 D x^1 + \\lambda_2 D x^2 + \\lambda_3 D x^3\\leq 8 $$\n",
    "\n",
    "$$ \\lambda_1 + \\lambda_2 + \\lambda_3 = 1 $$\n",
    "\n",
    "$$ \\lambda_1, \\lambda_2, \\lambda_3 \\geq 0 $$\n",
    "\n",
    "which simplifies to...\n",
    "\n",
    "$$ \\max 10 \\lambda_1 + 20 \\lambda_2 + 30 \\lambda_3 $$\n",
    "\n",
    "$$ s.t. \\,\\,\\,\\,\\quad 10 \\lambda_1 \\quad\\quad\\quad + 20 \\lambda_3 \\leq 8 $$\n",
    "\n",
    "$$ \\lambda_1 + \\lambda_2 + \\lambda_3 = 1 $$\n",
    "\n",
    "$$ \\lambda_1, \\lambda_2, \\lambda_3 \\geq 0 $$"
   ]
  },
  {
   "cell_type": "code",
   "execution_count": 16,
   "metadata": {},
   "outputs": [
    {
     "name": "stdout",
     "output_type": "stream",
     "text": [
      "Objective function value at optimum: 24.0\n",
      "Optimal solution: [-0.   0.6  0.4]^T\n"
     ]
    }
   ],
   "source": [
    "lambdas = cp.Variable(3)\n",
    "\n",
    "c_lambdas = np.array([10, 20, 30])\n",
    "\n",
    "D = np.array([10, 0, 20])\n",
    "\n",
    "obj = cp.Maximize(c_lambdas @ lambdas)\n",
    "prob = cp.Problem(obj, [D @ lambdas <= 8,\n",
    "                        sum(lambdas) == 1,\n",
    "                        lambdas >= 0])\n",
    "prob.solve()\n",
    "\n",
    "print(f'Objective function value at optimum: {round(prob.value)}')\n",
    "print(f'Optimal solution: {np.round(lambdas.value,1)}^T')"
   ]
  },
  {
   "cell_type": "markdown",
   "metadata": {},
   "source": [
    "**9) All we really need is the dual optimal solution to the RMP. So formulate the dual problem to the new RMP. Solve it in Python. Write down the dual optimal solution.**\n",
    "\n",
    "According to the optimal solution above, we drop $\\lambda_1$ and use the columns corresponding to $\\lambda_2$ and $\\lambda_3$.\n",
    "\n",
    "The new RMP has the basis matrix $B = \\begin{bmatrix} 0 & 20 \\\\ 1 & 1\\end{bmatrix}$, and cost vector $c_B = [20, 30]$.\n",
    "\n",
    "The dual variables $[\\hat y^T, \\hat r] = c_B^T B^{-1}$. In the cell below we will calculate the dual variables.\n",
    "\n",
    "The dual variables $[\\hat y^T, \\hat r] = [0.5, 20]$."
   ]
  },
  {
   "cell_type": "code",
   "execution_count": 18,
   "metadata": {},
   "outputs": [
    {
     "name": "stdout",
     "output_type": "stream",
     "text": [
      "Dual Variables: [ 0.5 20. ]\n"
     ]
    }
   ],
   "source": [
    "c_B = np.array([20, 30])\n",
    "B = np.array([[0, 20],\n",
    "              [1,  1]])\n",
    "\n",
    "dual_vars = c_B.T @ np.linalg.inv(B)\n",
    "print(f'Dual Variables: {dual_vars}')"
   ]
  },
  {
   "cell_type": "markdown",
   "metadata": {},
   "source": [
    "**10) Formulate the subproblem that maximizes the reduced cost of the restricted master problem.**\n",
    "\n",
    "Again the pricing problem can be formulated as:\n",
    "\n",
    "![](3.png)"
   ]
  },
  {
   "cell_type": "markdown",
   "metadata": {},
   "source": [
    "In this case, $c^T - \\hat y^T D = (-0.5, 2, 0, 0, 1, 0.5)$, \n",
    "\n",
    "$\\hat r = 20$, \n",
    "\n",
    "$F = \\begin{bmatrix} 1 & 1 & 1 & 0 & 0 & 0 \\\\ \n",
    "                     0 & 0 & 0 & 1 & 1 & 1 \\\\\n",
    "                     1 & 0 & 0 & 1 & 0 & 0 \\\\\n",
    "                     0 & 1 & 0 & 0 & 1 & 0 \\\\\n",
    "                     0 & 0 & 1 & 0 & 0 & 1 \\\\\n",
    "                     \\end{bmatrix}$, and\n",
    "\n",
    "$\\vec b = (20, 10, 10, 10, 10)^T$"
   ]
  },
  {
   "cell_type": "markdown",
   "metadata": {},
   "source": [
    "**11) Solve the above reduced cost maximization problem in Python. Write down its optimal objective value. Should we terminate the Dantzig-Wolfe algorithm? Why?**\n"
   ]
  },
  {
   "cell_type": "code",
   "execution_count": 19,
   "metadata": {},
   "outputs": [
    {
     "name": "stdout",
     "output_type": "stream",
     "text": [
      "Objective function value at optimum: -0.0\n",
      "Optimal solution: [ 5. 10.  5.  5.  0.  5.]^T\n",
      "\n",
      "Adding this solution to the RMP will not increase the objective value,     so we terminate the algorithm at this iteration!\n"
     ]
    }
   ],
   "source": [
    "x = cp.Variable(6)\n",
    "\n",
    "c = np.array([-0.5,2,0,0,1,0.5])\n",
    "\n",
    "F = np.array([[1,1,1,0,0,0],\n",
    "              [0,0,0,1,1,1],\n",
    "              [1,0,0,1,0,0],\n",
    "              [0,1,0,0,1,0],\n",
    "              [0,0,1,0,0,1]])\n",
    "\n",
    "b = np.array([20,10,10,10,10])\n",
    "\n",
    "obj = cp.Maximize(c@x - 20)\n",
    "prob = cp.Problem(obj, [F @ x == b,\n",
    "                        x >= 0])\n",
    "prob.solve()\n",
    "\n",
    "print(f'Objective function value at optimum: {prob.value}')\n",
    "print(f'Optimal solution: {np.round(x.value,1)}^T')\n",
    "\n",
    "if prob.value > 0:\n",
    "    print('\\nAdding this solution to the RMP will increase the objective value, so we continue iterating.')\n",
    "else:\n",
    "    print('\\nAdding this solution to the RMP will not increase the objective value, \\\n",
    "    so we terminate the algorithm at this iteration!')"
   ]
  },
  {
   "cell_type": "code",
   "execution_count": null,
   "metadata": {},
   "outputs": [],
   "source": []
  }
 ],
 "metadata": {
  "kernelspec": {
   "display_name": "Python 3",
   "language": "python",
   "name": "python3"
  },
  "language_info": {
   "codemirror_mode": {
    "name": "ipython",
    "version": 3
   },
   "file_extension": ".py",
   "mimetype": "text/x-python",
   "name": "python",
   "nbconvert_exporter": "python",
   "pygments_lexer": "ipython3",
   "version": "3.7.4"
  }
 },
 "nbformat": 4,
 "nbformat_minor": 2
}
